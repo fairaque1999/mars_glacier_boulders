{
  "cells": [
    {
      "cell_type": "code",
      "source": [
        "import pandas as pd\n",
        "import numpy as np\n",
        "import matplotlib.pyplot as plt\n",
        "import seaborn as sns\n",
        "from scipy.stats import spearmanr"
      ],
      "outputs": [],
      "execution_count": 5,
      "metadata": {}
    },
    {
      "cell_type": "code",
      "source": [
        "\"\"\"\n",
        "DATA INPUT AND REDUCTION\n",
        "\"\"\"\n",
        "LDA_log_filepath = \"/Users/ishraque/Desktop/lda_log_final.csv\" #insert the filepath of the lda_log_final.csv file\n",
        "\n",
        "LDA_log = pd.read_csv(LDA_log_filepath, sep=\",\")\n",
        "\n",
        "LDA_log = LDA_log.dropna()\n",
        "\n",
        "rename_columns = {'Abslat':'Latitude (Degrees)', 'PC_Azimuth':'Pole Corr. Azimuth', 'Cos_PC_Azimuth':'Cosine Azimuth', 'scarp_slope':'Scarp Slope', 'LDA_slope':'LDA Slope', 'Max_LDA_elev':'Max LDA Elevation', 'num_mapped_boulders':'Number of Boulders', 'FirstPick':'First Pick Clusters', 'Nominal':'Nominal Clusters', 'Preferred':'Preferred Clusters', 'Length':'Length (m)', 'ASD_num':'Number of ASD'}\n",
        "\n",
        "LDA_log.rename(columns=rename_columns, inplace=True)\n",
        "\n",
        "# reducing down to the relevant variables\n",
        "reduce_data_columns = ['Latitude (Degrees)', 'Pole Corr. Azimuth', 'Cosine Azimuth', 'Scarp Slope', 'LDA Slope', 'Max LDA Elevation', 'Number of Boulders', 'Nominal Clusters', 'Preferred Clusters', 'First Pick Clusters', 'Length (m)', 'Craters + CLF', 'Number of ASD']\n",
        "\n",
        "# reducing variables further to simplify analysis \n",
        "final_reduce_data_columns = ['Latitude (Degrees)', 'Cosine Azimuth', 'Number of Boulders', 'Nominal Clusters', 'Preferred Clusters', 'Length (m)']\n",
        "LDA_log.columns"
      ],
      "outputs": [
        {
          "output_type": "execute_result",
          "execution_count": 6,
          "data": {
            "text/plain": "Index(['Image', 'Lat', 'Long', 'Latitude (Degrees)', 'Nominal Clusters',\n       'Preferred Clusters', 'First Pick Clusters', 'Length (m)', 'Azimuth',\n       'Pole Corr. Azimuth', 'Cosine Azimuth', 'Number of Boulders',\n       'LDA_relief', 'Min_LDA_elev', 'Max LDA Elevation', 'Max_scarp_elev',\n       'Dist_LDA_Scarp', 'Scarp Slope', 'LDA Slope', 'phase_angle',\n       'Craters + CLF', 'Brain Terrain? (Y/N)', 'Polygons?(Y/N)',\n       'Scarp_cluster', 'Moraine_like_cluster', 'ASD_like_bands',\n       'Number of ASD'],\n      dtype='object')"
          },
          "metadata": {}
        }
      ],
      "execution_count": 6,
      "metadata": {}
    },
    {
      "cell_type": "code",
      "source": [
        "\"\"\"\n",
        "CONDITIONAL FILTERING OF DATA \n",
        "\"\"\"\n",
        "data_filter = reduce_data_columns # can also use final_reduce_data_columns\n",
        "\n",
        "#separating the data\n",
        "LDA_plot_data = LDA_log[data_filter]\n",
        "\n",
        "#Data with brain terrain\n",
        "brain_LDA = LDA_log.loc[LDA_log['Brain Terrain? (Y/N)'] == 'Y'].reset_index(drop=True, inplace=False)\n",
        "brain_LDA = brain_LDA[data_filter]\n",
        "\n",
        "#data without brain terrain\n",
        "no_brain_LDA = LDA_log.loc[LDA_log['Brain Terrain? (Y/N)'] == 'N'].reset_index(drop=True, inplace=False)\n",
        "no_brain_LDA = no_brain_LDA[data_filter]\n",
        "\n",
        "#Data with mantle\n",
        "mantle_LDA = LDA_log.loc[LDA_log['Polygons?(Y/N)'] == 'Y'].reset_index(drop=True, inplace=False)\n",
        "mantle_LDA = mantle_LDA[data_filter]\n",
        "\n",
        "#data without mantle\n",
        "no_mantle_LDA = LDA_log.loc[LDA_log['Polygons?(Y/N)'] == 'N'].reset_index(drop=True, inplace=False)\n",
        "no_mantle_LDA = no_mantle_LDA[data_filter]\n",
        "\n",
        "#data with ASD_like_bands\n",
        "ASD_LDA = LDA_log.loc[LDA_log['ASD_like_bands'] == 'Y'].reset_index(drop=True, inplace=False)\n",
        "ASD_LDA = ASD_LDA[data_filter]"
      ],
      "outputs": [],
      "execution_count": 88,
      "metadata": {}
    },
    {
      "cell_type": "code",
      "source": [
        "# Function to calculate correlation coefficient between two arrays\n",
        "def corr(x, y, **kwargs):\n",
        "    \n",
        "    # Calculate the value\n",
        "    coef_pear = np.corrcoef(x, y)[0][1]\n",
        "    coef_spear, pval = spearmanr(x, y)\n",
        "    # Make the label\n",
        "    label1 = r'$\\rho _{p}$ = ' + str(round(coef_pear, 2))\n",
        "    label2 = r'$\\rho _{s}$ = ' + str(round(coef_spear, 2))\n",
        "    \n",
        "    # Add the label to the plot\n",
        "    ax = plt.gca()\n",
        "    ax.annotate(label1, xy = (0.07, 0.93), size = 15, xycoords = ax.transAxes)\n",
        "    ax.annotate(label2, xy = (0.6, 0.93), size = 15, xycoords = ax.transAxes)"
      ],
      "outputs": [],
      "execution_count": null,
      "metadata": {}
    },
    {
      "cell_type": "code",
      "source": [
        "#DETAIL PLOTS  (These are scatterplots overlain on kernel density diagrams, with the color bar indicating the number of mapped boulders in each data point)\n",
        "\n",
        "selected_data = ASD_LDA\n",
        "\n",
        "#select the variables and plot\n",
        "indep = 'Length (m)'\n",
        "dep = 'Preferred Clusters'\n",
        "\n",
        "#selecting the file from the dataframe\n",
        "x = selected_data[indep]\n",
        "y = selected_data[dep]\n",
        "\n",
        "cm = plt.cm.get_cmap('RdYlBu')\n",
        "grey = sns.light_palette(\"grey\", as_cmap=True)\n",
        "\n",
        "f, den = plt.subplots(figsize=(10,6))\n",
        "den = sns.kdeplot(x,y,shade=True, cmap=grey)\n",
        "den = plt.scatter(x, y, c=selected_data['Number of Boulders'], cmap=cm)\n",
        "plt.colorbar(den, label='Number of mapped boulders')\n",
        "den = corr(x,y)\n",
        "\n",
        "if selected_data is LDA_plot_data:\n",
        "    cat = 'Total_'\n",
        "elif selected_data is brain_LDA:\n",
        "    cat = 'Brain_'\n",
        "elif selected_data is no_brain_LDA:\n",
        "    cat = 'No_Brain_'\n",
        "elif selected_data is mantle_LDA:\n",
        "    cat = 'Mantle_'\n",
        "elif selected_data is no_mantle_LDA:\n",
        "    cat = 'No_Mantle_'\n",
        "\n",
        "#f.savefig(cat+indep+'_vs_'+dep+'.png')"
      ],
      "outputs": [],
      "execution_count": null,
      "metadata": {}
    },
    {
      "cell_type": "code",
      "source": [
        "#sns.set_style(\"whitegrid\", {'axes.grid' : False})\n",
        "#sns.set_style(\"ticks\", {\"xtick.major.size\": 2, \"ytick.major.size\": 2})\n",
        "#plt.rcParams[\"axes.labelsize\"] = 15\n",
        "#sns.set(font_scale=1.15)\n",
        "#colormap for pairplots\n",
        "\n",
        "color_map = sns.light_palette(\"skyblue\", as_cmap=True)\n",
        "#Pairplots\n",
        "grid = sns.PairGrid(data = selected_data)\n",
        "grid = grid.map_upper(plt.scatter)\n",
        "grid = grid.map_upper(corr)\n",
        "grid = grid.map_diag(plt.hist, bins = 10)\n",
        "grid = grid.map_lower(sns.kdeplot, cmap=color_map, shade=True)\n",
        "grid = grid.map_lower(sns.scatterplot)\n",
        "grid.savefig('pairplot_ASD_reduced.svg')"
      ],
      "outputs": [],
      "execution_count": null,
      "metadata": {}
    },
    {
      "cell_type": "code",
      "source": [
        "# The cells below explore correlations and significant correlations\n",
        "\n",
        "rho, pval = spearmanr(x, y)\n",
        "print(pval)"
      ],
      "outputs": [
        {
          "output_type": "stream",
          "name": "stdout",
          "text": [
            "0.023003668753480946\n"
          ]
        }
      ],
      "execution_count": 30,
      "metadata": {}
    },
    {
      "cell_type": "code",
      "source": [
        "import pingouin\n",
        "import scipy.spatial.distance as dist\n",
        "import scipy.stats as ss"
      ],
      "outputs": [],
      "execution_count": 89,
      "metadata": {}
    },
    {
      "cell_type": "code",
      "source": [
        "test_data = LDA_log[data_filter]"
      ],
      "outputs": [],
      "execution_count": 90,
      "metadata": {}
    },
    {
      "cell_type": "code",
      "source": [
        "correlation = test_data.corr(method = 'pearson')"
      ],
      "outputs": [],
      "execution_count": 86,
      "metadata": {}
    },
    {
      "cell_type": "code",
      "source": [
        "plt.figure(num=None, figsize=(15, 12), dpi=256, facecolor='w', edgecolor='k')\n",
        "plt.title('Spearman Correlation Matrix')\n",
        "sns_plot = sns.heatmap(correlation, annot=True)\n",
        "plt.show\n",
        "plt.savefig(\"Pearson_correlation_matrix_heatmap_reduced.svg\")"
      ],
      "outputs": [],
      "execution_count": null,
      "metadata": {}
    },
    {
      "cell_type": "code",
      "source": [
        "pg_data1 = test_data.rcorr(method='spearman', upper='pval', stars=False)\n",
        "pg_data2 = test_data.rcorr(method='spearman', upper='pval', stars=True)"
      ],
      "outputs": [],
      "execution_count": 108,
      "metadata": {}
    },
    {
      "cell_type": "code",
      "source": [
        "pg_data1"
      ],
      "outputs": [],
      "execution_count": null,
      "metadata": {}
    },
    {
      "cell_type": "code",
      "source": [
        "pg_data2"
      ],
      "outputs": [],
      "execution_count": null,
      "metadata": {}
    }
  ],
  "metadata": {
    "kernelspec": {
      "display_name": "Python 3",
      "language": "python",
      "name": "python3"
    },
    "language_info": {
      "codemirror_mode": {
        "name": "ipython",
        "version": 3
      },
      "file_extension": ".py",
      "mimetype": "text/x-python",
      "name": "python",
      "nbconvert_exporter": "python",
      "pygments_lexer": "ipython3",
      "version": "3.8.5"
    },
    "nteract": {
      "version": "0.27.0"
    }
  },
  "nbformat": 4,
  "nbformat_minor": 4
}